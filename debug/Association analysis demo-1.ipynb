{
 "cells": [
  {
   "cell_type": "code",
   "execution_count": 1,
   "metadata": {
    "scrolled": true
   },
   "outputs": [
    {
     "data": {
      "text/plain": [
       "'/home/rnshishir/deepmed/CPRD_Cut22/debug/clean'"
      ]
     },
     "execution_count": 1,
     "metadata": {},
     "output_type": "execute_result"
    }
   ],
   "source": [
    "pwd"
   ]
  },
  {
   "cell_type": "code",
   "execution_count": 2,
   "metadata": {},
   "outputs": [],
   "source": [
    "import pyspark"
   ]
  },
  {
   "cell_type": "code",
   "execution_count": 3,
   "metadata": {},
   "outputs": [],
   "source": [
    "import sys \n",
    "sys.path.insert(0, '/home/rnshishir/deepmed/CPRD_Cut22/')\n",
    "import shutil\n",
    "from utils.yaml_act import yaml_load\n",
    "from utils.arg_parse import arg_paser\n",
    "from CPRD.config.spark import spark_init, read_parquet\n",
    "import pyspark.sql.functions as F\n",
    "from CPRD.functions import tables, merge\n",
    "from CPRD.functions import merge\n",
    "from utils.utils import save_obj\n",
    "from CPRD.functions.MedicalDictionary import * \n",
    "from CPRD.functions.Prediction import * \n",
    "from CPRD.functions.cohort_select_causal import * \n",
    "from CPRD.functions.SurvPrediction import * \n",
    "class dotdict(dict):\n",
    "    \"\"\"dot.notation access to dictionary attributes\"\"\"\n",
    "    __getattr__ = dict.get\n",
    "    __setattr__ = dict.__setitem__\n",
    "    __delattr__ = dict.__delitem__"
   ]
  },
  {
   "cell_type": "code",
   "execution_count": 4,
   "metadata": {},
   "outputs": [],
   "source": [
    "\n",
    "def vocabCreate(CountsICD, num):\n",
    "    dic={}\n",
    "    dic['token2idx']={}\n",
    "    dic['idx2token']={}\n",
    "    dic['token2idx']['MASK']=4\n",
    "    dic['token2idx']['CLS']=3\n",
    "    dic['token2idx']['SEP']=2\n",
    "    dic['token2idx']['UNK']=1\n",
    "    dic['token2idx']['PAD']=0\n",
    "    dic['idx2token'][4]='MASK'\n",
    "    dic['idx2token'][3]='CLS'\n",
    "    dic['idx2token'][2]='SEP'\n",
    "    dic['idx2token'][1]='UNK'\n",
    "    dic['idx2token'][0]='PAD'\n",
    "    i=5\n",
    "    for x in CountsICD:\n",
    "        if CountsICD[x]>num:\n",
    "            dic['token2idx'][x]=i\n",
    "            dic['idx2token'][i]=x\n",
    "            i=i+1\n",
    "    return dic"
   ]
  },
  {
   "cell_type": "code",
   "execution_count": 5,
   "metadata": {},
   "outputs": [
    {
     "name": "stderr",
     "output_type": "stream",
     "text": [
      "/home/rnshishir/deepmed/CPRD_Cut22/utils/yaml_act.py:6: YAMLLoadWarning: calling yaml.load() without Loader=... is deprecated, as the default Loader is unsafe. Please read https://msg.pyyaml.org/load for full details.\n",
      "  cfg = yaml.load(ymlfile)\n"
     ]
    }
   ],
   "source": [
    "args = dotdict({'params': '/home/rnshishir/deepmed/CPRD_Cut22/config/config.yaml'})\n",
    "params = yaml_load(args.params)\n",
    "spark_params = params['pyspark']\n",
    "spark = spark_init(spark_params)\n",
    "file = params['file_path']\n",
    "data_params = params['params']"
   ]
  },
  {
   "cell_type": "code",
   "execution_count": 6,
   "metadata": {},
   "outputs": [
    {
     "data": {
      "text/plain": [
       "{'task': 'medication.main',\n",
       " 'pyspark': {'temp': '/home/rnshishir/sparkNewT',\n",
       "  'pyspark_env': '/home/rnshishir/anaconda3/envs/pyspark37/bin/python3.7'},\n",
       " 'file_path': {'clinical': '/home/workspace/datasets/cprd/cprd2021/*/*_Observation_*',\n",
       "  'patient': '/home/workspace/datasets/cprd/cprd2021/*/*_Patient_*',\n",
       "  'problem': '/home/workspace/datasets/cprd/cprd2021/*/*_Problem_*',\n",
       "  'therapy': '/home/workspace/datasets/cprd/cprd2021/*/*_DrugIssue_*',\n",
       "  'referral': '/home/workspace/datasets/cprd/cprd2021/*/*_Referral_*',\n",
       "  'practice': '/home/workspace/datasets/cprd/cprd2021/*/*_Practice_*',\n",
       "  'consultation': '/home/workspace/datasets/cprd/cprd2021/*/*_Consultation_*',\n",
       "  'staff': '/home/workspace/datasets/cprd/cprd2021/*/*_Staff*',\n",
       "  'diagnosis_hes': '/home/workspace/datasets/cprd/cprd2021/linkage/20_095_Results/*/Aurum_linked/Final/hes_diagnosis_hosp_20_095_DM.txt',\n",
       "  'proc_hes': '/home/workspace/datasets/cprd/cprd2021/linkage/20_095_Results/*/Aurum_linked/Final/hes_procedures_epi_20_095_DM.txt',\n",
       "  'op_hes': '/home/workspace/datasets/cprd/cprd2021/linkage/20_095_Results/*/Aurum_linked/Final/hesop_clinical_20_095_DM.txt',\n",
       "  'death': '/home/workspace/datasets/cprd/cprd2021/linkage/20_095_Results/*/Aurum_linked/Final/death_patient_20_095_DM.txt',\n",
       "  'eligible': '/home/workspace/datasets/cprd/cprd2021/linkage_eligibility_Set21/linkage_eligibility*',\n",
       "  'med2read': '/home/workspace/datasets/cprd/cprd2021/202102_lookups/202102_EMISMedicalDictionary.txt',\n",
       "  'med2sno': '/home/workspace/datasets/cprd/cprd2021/202102_lookups/202102_EMISMedicalDictionary.txt',\n",
       "  'medicalDict': '/home/shared/shishir/AurumOut/Dicts/MedicalDictionary/CompiledDict/',\n",
       "  'uptodateDict': '/home/workspace/datasets/cprd/cprd2021/linkage/20_095_Results/Documentation/*/linkage_coverage_dictv.pkl',\n",
       "  'prod2bnf': '/home/workspace/datasets/cprd/cprd2021/202102_lookups/202102_EMISProductDictionary.txt',\n",
       "  'prod2bnf_vtm': '/home/shared/shishir/AurumOut/Dicts/meds_medcount_full.parquet',\n",
       "  'read2icd': '/home/workspace/datasets/cprd/cuts/02_cprd2015/3_Lookups/final_mapping.csv',\n",
       "  'sno2icd': '/home/shared/shishir/AurumOut/Dicts/snomed2icd.parquet',\n",
       "  'imd': '/home/workspace/datasets/cprd/cprd2021/linkage/20_095_Results/*/Aurum_linked/Final/patient_imd2015_20_095.txt',\n",
       "  'PhenoMaps': '/home/shared/shishir/AurumOut/Dicts/compiled_MD_23Nov2023',\n",
       "  'diag2keep': '/home/shared/shishir/AurumOut/Dicts/diagcodes2keep.parquet',\n",
       "  'hes_patient': '/home/workspace/datasets/cprd/cprd2021/linkage/20_095_Results/*/Aurum_linked/Final/hes_patient_20_095_DM.txt'},\n",
       " 'params': {'bnf_mapping': True, 'time_range': [1985, 2022]},\n",
       " 'save_file': 'medication.parquet'}"
      ]
     },
     "execution_count": 6,
     "metadata": {},
     "output_type": "execute_result"
    }
   ],
   "source": [
    "# params have each of the individual files for data processing and other things like location of medical dict etc\n",
    "params"
   ]
  },
  {
   "cell_type": "code",
   "execution_count": null,
   "metadata": {},
   "outputs": [],
   "source": []
  },
  {
   "cell_type": "markdown",
   "metadata": {},
   "source": [
    "# Association to study: effect of antihypertensives on ischaemic heart diseases\n",
    "### cohort selection\n",
    "-Cohort selection: age between 60 and 61 years in years between 2009 and 2010\n",
    "\n",
    "-take the first initiation of antihyp in this time to be baseline\n",
    "\n",
    "-take random baseline for those without any antihyp"
   ]
  },
  {
   "cell_type": "code",
   "execution_count": 6,
   "metadata": {},
   "outputs": [],
   "source": [
    "md = MedicalDictionaryRiskPrediction(file, spark)\n"
   ]
  },
  {
   "cell_type": "code",
   "execution_count": 9,
   "metadata": {},
   "outputs": [
    {
     "data": {
      "text/plain": [
       "['height',\n",
       " 'weight',\n",
       " 'bmi',\n",
       " 'creatinine',\n",
       " 'egfr',\n",
       " 'hb',\n",
       " 'hba1c',\n",
       " 'smoking+yes',\n",
       " 'smoking+ex',\n",
       " 'heart rate',\n",
       " 'dbp',\n",
       " 'sbp',\n",
       " 'smoking+no',\n",
       " 'smoking+check',\n",
       " 'cholesterol',\n",
       " 'coronary heart disease family history',\n",
       " 'new york heart association heart failure classification 1',\n",
       " 'new york heart association heart failure classification 2',\n",
       " 'new york heart association heart failure classification 3',\n",
       " 'new york heart association heart failure classification 4',\n",
       " 'new york heart association heart failure classification',\n",
       " 'atrial fibrillation',\n",
       " 'stroke',\n",
       " 'transient ischaemic attack',\n",
       " 'arterial thromboembolism',\n",
       " 'aortic plaque',\n",
       " 'diabetes',\n",
       " 'hypertension',\n",
       " 'heart failure',\n",
       " 'gastrointestinal and intracranial bleeding',\n",
       " 'gastrointestinal tract ulcer',\n",
       " 'brain injury',\n",
       " 'spinal injury',\n",
       " 'eye injury',\n",
       " 'dementia',\n",
       " 'cardivascular mortality',\n",
       " 'ischaemic stroke',\n",
       " 'venous thromoemoblism and pulmonary embolism',\n",
       " 'thromboembolic',\n",
       " 'myocardial infarction',\n",
       " 'vascular dementia',\n",
       " 'gastrointestinal bleeding',\n",
       " 'bleeding at other anatomy sites',\n",
       " 'hospitalisation',\n",
       " 'intracranial haemorrhage',\n",
       " 'ethinicity',\n",
       " 'hyperthyoidism',\n",
       " 'hypothyroidism',\n",
       " 'chronic obstructive pulmonary disease',\n",
       " 'diabetic retinopathy',\n",
       " 'retinal vascular occlusion',\n",
       " 'glaucoma',\n",
       " 'age-related macular degeneration',\n",
       " 'peripheral arterial disease',\n",
       " \"addison's disease\",\n",
       " 'ankylosing spondylitis',\n",
       " \"coeliac's disease\",\n",
       " 'diabetes, type 1',\n",
       " \"graves' disease\",\n",
       " \"hashimoto's disease\",\n",
       " 'inflammatory bowel disease',\n",
       " 'multiple sclerosis',\n",
       " 'myasthenia gravis',\n",
       " 'pernicious anaemia',\n",
       " 'polymyalgia rheumatica',\n",
       " 'primary biliary cirrhosis',\n",
       " 'psoriasis',\n",
       " 'rheumatoid arthritis',\n",
       " \"sjogren's disease\",\n",
       " 'systemic lupus erythematosus',\n",
       " 'systemic sclerosis',\n",
       " 'vasculitis',\n",
       " 'vitiligo',\n",
       " 'aortic aneurysm',\n",
       " 'infective endocarditis',\n",
       " 'ischaemic heart disease',\n",
       " 'myocarditis and pericarditis',\n",
       " 'supraventricular arrhythmias',\n",
       " 'valve disorders',\n",
       " 'dyslipidaemia',\n",
       " 'chronic kidney disease',\n",
       " 'abdominal hernia',\n",
       " 'abdominal aortic aneurysm',\n",
       " 'acne',\n",
       " 'actinic keratosis',\n",
       " 'acute kidney injury',\n",
       " 'agranulocytosis',\n",
       " 'alcohol problems',\n",
       " 'alcoholic liver disease',\n",
       " 'allergic and chronic rhinitis',\n",
       " 'alopecia areata',\n",
       " 'anal fissure',\n",
       " 'angiodysplasia of colon',\n",
       " 'anorectal fistula',\n",
       " 'anorectal prolapse',\n",
       " 'anorexia and bulimia nervosa',\n",
       " 'anterior and intermediate uveitis',\n",
       " 'anxiety disorders',\n",
       " 'aplastic anaemias',\n",
       " 'appendicitis',\n",
       " 'asbestosis',\n",
       " 'aspiration pneumonitis',\n",
       " 'asthma',\n",
       " 'atrioventricular block, complete',\n",
       " 'atrioventricular block, first degree',\n",
       " 'atrioventricular block, second degree',\n",
       " \"autism and asperger's syndrome\",\n",
       " 'autoimmune liver disease',\n",
       " 'bacterial diseases (excl tb)',\n",
       " 'bacterial sepsis of newborn',\n",
       " \"barrett's oesophagus\",\n",
       " \"bell's palsy\",\n",
       " 'benign neoplasm and polyp of uterus',\n",
       " 'benign neoplasm of brain and other parts of central nervous system',\n",
       " 'benign neoplasm of colon, rectum, anus and anal canal',\n",
       " 'benign neoplasm of ovary',\n",
       " 'benign neoplasm of stomach and duodenum',\n",
       " 'bifascicular block',\n",
       " 'bipolar affective disorder and mania',\n",
       " 'bronchiectasis',\n",
       " 'carcinoma in situ_cervical',\n",
       " 'carpal tunnel syndrome',\n",
       " 'cataract',\n",
       " 'cerebral palsy',\n",
       " 'cholangitis',\n",
       " 'cholecystitis',\n",
       " 'cholelithiasis',\n",
       " 'chronic sinusitis',\n",
       " 'chronic viral hepatitis',\n",
       " 'coeliac disease',\n",
       " 'collapsed vertebra',\n",
       " 'congenital malformations of cardiac septa',\n",
       " 'coronary heart disease not otherwise specified',\n",
       " \"crohn's disease\",\n",
       " 'cystic fibrosis',\n",
       " 'delirium, not induced by alcohol and other psychoactive substances',\n",
       " 'depression',\n",
       " 'dermatitis (atopc/contact/other/unspecified)',\n",
       " 'diabetic neurological complications',\n",
       " 'diabetic ophthalmic complications',\n",
       " 'diaphragmatic hernia',\n",
       " 'dilated cardiomyopathy',\n",
       " 'disorders of autonomic nervous system',\n",
       " 'diverticular disease of intestine (acute and chronic)',\n",
       " \"down's syndrome\",\n",
       " 'dysmenorrhoea',\n",
       " 'ear and upper respiratory tract infections',\n",
       " 'encephalitis',\n",
       " 'end stage renal disease',\n",
       " 'endometrial hyperplasia and hypertrophy',\n",
       " 'endometriosis',\n",
       " 'enteropathic arthropathy',\n",
       " 'enthesopathies & synovial disorders',\n",
       " 'epilepsy',\n",
       " 'erectile dysfunction',\n",
       " 'essential tremor',\n",
       " 'eye infections',\n",
       " 'fatty liver',\n",
       " 'female genital prolapse',\n",
       " 'female infertility',\n",
       " 'female pelvic inflammatory disease',\n",
       " 'fibromatoses',\n",
       " 'folate deficiency anaemia',\n",
       " 'fracture of hip',\n",
       " 'fracture of wrist',\n",
       " 'gastritis and duodenitis',\n",
       " 'gastro-oesophageal reflux disease',\n",
       " 'giant cell arteritis',\n",
       " 'glomerulonephritis',\n",
       " 'gout',\n",
       " 'hiv',\n",
       " 'haemangioma, any site',\n",
       " 'hearing loss',\n",
       " 'hepatic failure',\n",
       " 'hidradenitis suppurativa',\n",
       " 'high birth weight',\n",
       " 'hodgkin lymphoma',\n",
       " 'hydrocoele (incl infected)',\n",
       " 'hyperkinetic disorders',\n",
       " 'hyperparathyroidism',\n",
       " 'hyperplasia of prostate',\n",
       " 'hypertrophic cardiomyopathy',\n",
       " 'hypertrophy of nasal turbinates',\n",
       " 'hypo or hyperthyroidism',\n",
       " 'hyposplenism',\n",
       " 'immunodeficiencies',\n",
       " 'infection of anal and rectal regions',\n",
       " 'infection of bones and joints',\n",
       " 'infection of liver',\n",
       " 'infection of male genital system',\n",
       " 'infection of other or unspecified genitourinary system',\n",
       " 'infection of skin and subcutaneous tissues',\n",
       " 'infections of other or unspecified organs',\n",
       " 'infections of the heart',\n",
       " 'infections of the digestive system',\n",
       " 'intellectual disability',\n",
       " 'intervertebral disc disorders',\n",
       " 'intracerebral haemorrhage',\n",
       " 'intracranial hypertension',\n",
       " 'intrauterine hypoxia',\n",
       " 'iron deficiency anaemia',\n",
       " 'irritable bowel syndrome',\n",
       " 'juvenile arthritis',\n",
       " 'keratitis',\n",
       " 'left bundle branch block',\n",
       " 'leiomyoma of uterus',\n",
       " 'leukaemia',\n",
       " 'lichen planus',\n",
       " 'liver fibrosis, sclerosis and cirrhosis',\n",
       " 'lower respiratory tract infections',\n",
       " 'lupus erythematosus (local and systemic)',\n",
       " 'macular degeneration',\n",
       " 'male infertility',\n",
       " 'meniere disease',\n",
       " 'meningitis',\n",
       " 'menorrhagia and polymenorrhoea',\n",
       " 'migraine',\n",
       " 'monoclonal gammopathy of undetermined significance (mgus)',\n",
       " 'motor neuron disease',\n",
       " 'multiple myeloma and malignant plasma cell neoplasms',\n",
       " 'multiple valve disease',\n",
       " 'mycoses',\n",
       " 'myelodysplastic syndromes',\n",
       " 'nasal polyp',\n",
       " 'neonatal jaundice (excl haemolytic disease of the newborn)',\n",
       " 'neuromuscular dysfunction of bladder',\n",
       " 'non-hodgkin lymphoma',\n",
       " 'non-acute cystitis',\n",
       " 'nonrheumatic aortic valve disorders',\n",
       " 'nonrheumatic mitral valve disorders',\n",
       " 'obesity',\n",
       " 'obsessive-compulsive disorder',\n",
       " 'obstructive and reflux uropathy',\n",
       " 'oesophageal varices',\n",
       " 'oesophagitis and oesophageal ulcer',\n",
       " 'osteoarthritis (excl spine)',\n",
       " 'osteoporosis',\n",
       " 'other cardiomyopathy',\n",
       " 'other anaemias',\n",
       " 'other haemolytic anaemias',\n",
       " 'other interstitial pulmonary diseases with fibrosis',\n",
       " 'other nervous system infections',\n",
       " 'other or unspecified infectious organisms',\n",
       " 'other psychoactive substance misuse',\n",
       " 'pancreatitis',\n",
       " 'parasitic infections',\n",
       " \"parkinson's disease\",\n",
       " 'patent ductus arteriosus',\n",
       " 'peptic ulcer disease',\n",
       " 'pericardial effusion (noninflammatory)',\n",
       " 'peripheral neuropathies (excluding cranial nerve and carpal tunnel syndromes)',\n",
       " 'peritonitis',\n",
       " 'personality disorders',\n",
       " 'pilonidal cyst/sinus',\n",
       " 'pleural effusion',\n",
       " 'pleural plaque',\n",
       " 'pneumothorax',\n",
       " 'polycystic ovarian syndrome',\n",
       " 'polycythaemia vera',\n",
       " 'portal hypertension',\n",
       " 'post-term infant',\n",
       " 'postcoital and contact bleeding',\n",
       " 'posterior uveitis',\n",
       " 'postinfective and reactive arthropathies',\n",
       " 'postmenopausal bleeding',\n",
       " 'postviral fatigue syndrome, neurasthenia and fibromyalgia',\n",
       " 'prematurity',\n",
       " 'primary malignancy_bladder',\n",
       " 'primary malignancy_bone and articular cartilage',\n",
       " 'primary malignancy_brain, other cns and intracranial',\n",
       " 'primary malignancy_breast',\n",
       " 'primary malignancy_cervical',\n",
       " 'primary malignancy_kidney and ureter',\n",
       " 'primary malignancy_liver',\n",
       " 'primary malignancy_lung and trachea',\n",
       " 'primary malignancy_malignant melanoma',\n",
       " 'primary malignancy_mesothelioma',\n",
       " 'primary malignancy_multiple independent sites',\n",
       " 'primary malignancy_oesophageal',\n",
       " 'primary malignancy_oro-pharyngeal',\n",
       " 'primary malignancy_other organs',\n",
       " 'primary malignancy_other skin and subcutaneous tissue',\n",
       " 'primary malignancy_ovarian',\n",
       " 'primary malignancy_pancreatic',\n",
       " 'primary malignancy_prostate',\n",
       " 'primary malignancy_stomach',\n",
       " 'primary malignancy_testicular',\n",
       " 'primary malignancy_thyroid',\n",
       " 'primary malignancy_uterine',\n",
       " 'primary malignancy_biliary tract',\n",
       " 'primary malignancy_colorectal and anus',\n",
       " 'primary or idiopathic thrombocytopaenia',\n",
       " 'primary pulmonary hypertension',\n",
       " 'psoriatic arthropathy',\n",
       " 'ptosis of eyelid',\n",
       " 'pulmonary collapse (excl pneumothorax)',\n",
       " 'pulmonary embolism',\n",
       " \"raynaud's syndrome\",\n",
       " 'respiratory distress of newborn',\n",
       " 'respiratory failure',\n",
       " 'retinal detachments and breaks',\n",
       " 'rheumatic fever',\n",
       " 'rheumatic valve disease',\n",
       " 'right bundle branch block',\n",
       " 'rosacea',\n",
       " 'sarcoidosis',\n",
       " 'schizophrenia, schizotypal and delusional disorders',\n",
       " 'scleritis and episcleritis',\n",
       " 'scoliosis',\n",
       " 'seborrheic dermatitis',\n",
       " 'secondary malignancy_adrenal gland',\n",
       " 'secondary malignancy_bone',\n",
       " 'secondary malignancy_bowel',\n",
       " 'secondary malignancy_brain, other cns and intracranial',\n",
       " 'secondary malignancy_lung',\n",
       " 'secondary malignancy_lymph nodes',\n",
       " 'secondary malignancy_other organs',\n",
       " 'secondary malignancy_pleura',\n",
       " 'secondary malignancy_retroperitoneum and peritoneum',\n",
       " 'secondary malignancy_liver and intrahepatic bile duct',\n",
       " 'secondary or other thrombocytopaenia',\n",
       " 'secondary polycythaemia',\n",
       " 'secondary pulmonary hypertension',\n",
       " 'septicaemia',\n",
       " 'sick sinus syndrome',\n",
       " 'sickle-cell anaemia',\n",
       " 'sickle-cell trait',\n",
       " 'sleep apnoea',\n",
       " 'slow fetal growth or low birth weight',\n",
       " 'spina bifida',\n",
       " 'spinal stenosis',\n",
       " 'splenomegaly',\n",
       " 'spondylolisthesis',\n",
       " 'spondylosis',\n",
       " 'stable angina',\n",
       " 'stroke nos',\n",
       " 'subarachnoid haemorrhage',\n",
       " 'subdural haematoma - nontraumatic',\n",
       " 'supraventricular tachycardia',\n",
       " 'syndrome of inappropriate secretion of antidiuretic hormone',\n",
       " 'thalassaemia',\n",
       " 'thalassaemia trait',\n",
       " 'thrombophilia',\n",
       " 'tinnitus',\n",
       " 'trifascicular block',\n",
       " 'trigeminal neuralgia',\n",
       " 'tuberculosis',\n",
       " 'tubulo-interstitial nephritis',\n",
       " 'ulcerative colitis',\n",
       " 'undescended testicle',\n",
       " 'unstable angina',\n",
       " 'urinary incontinence',\n",
       " 'urinary tract infections',\n",
       " 'urolithiasis',\n",
       " 'urticaria',\n",
       " 'venous thromboembolic disease (excl pe)',\n",
       " 'ventricular tachycardia',\n",
       " 'viral diseases (excl chronic hepatitis/hiv)',\n",
       " 'visual impairment and blindness',\n",
       " 'vitamin b12 deficiency anaemia',\n",
       " 'volvulus',\n",
       " 'anticoagulant',\n",
       " 'low molecular weight heparin',\n",
       " 'anti-diabetic',\n",
       " 'loop diuretics',\n",
       " 'antiplatelet',\n",
       " 'thiazide diuretics',\n",
       " 'thiazide like diuretics',\n",
       " 'potassium sparing diuretics',\n",
       " 'dihydropyridines',\n",
       " 'non dihydropyridines',\n",
       " 'angiotensin converting enzyme inhibitors',\n",
       " 'angiotensin ii receptor blocker',\n",
       " 'beta blockers',\n",
       " 'alpha blockers',\n",
       " 'aldosterone',\n",
       " 'other antihypertensive',\n",
       " 'antiarrhythmic drugs class 1',\n",
       " 'antiarrhythmic drugs class 3',\n",
       " 'digoxin',\n",
       " 'sodium-glucose co-transporter-2 inhibitors',\n",
       " 'antihypertensive',\n",
       " 'retinal laser',\n",
       " 'vitrectomy',\n",
       " 'scleral buckle',\n",
       " 'intravitreal injection',\n",
       " 'atrial ablation']"
      ]
     },
     "execution_count": 9,
     "metadata": {},
     "output_type": "execute_result"
    }
   ],
   "source": [
    "md.findItem('')"
   ]
  },
  {
   "cell_type": "code",
   "execution_count": 10,
   "metadata": {},
   "outputs": [],
   "source": [
    "tempantihyp = md.queryMedication(md.findItem('antihy'), merge= True)['merged']\n"
   ]
  },
  {
   "cell_type": "code",
   "execution_count": null,
   "metadata": {},
   "outputs": [],
   "source": []
  },
  {
   "cell_type": "code",
   "execution_count": 13,
   "metadata": {},
   "outputs": [],
   "source": [
    "# medical dict can give us both exposures and outcomes codes - e.g. diabetes as outcomes or antihyyp as exposurea\n",
    "md = MedicalDictionaryRiskPrediction(file, spark)\n",
    "tempantihyp = md.queryMedication(md.findItem('antihy'), merge= True)['merged']\n",
    "expcodes = {}\n",
    "expcodes['prodcode'] = tempantihyp['prodcode']\n"
   ]
  },
  {
   "cell_type": "markdown",
   "metadata": {},
   "source": [
    "exposure selection"
   ]
  },
  {
   "cell_type": "code",
   "execution_count": 14,
   "metadata": {},
   "outputs": [],
   "source": [
    "# CohortSoftCut from the causal cohort selection package has everything to select cohort and baseline\n",
    "# specifically the baseline for those WITH the exposure is date of exposure, and for those WITHOUT exp of interest is random sampling of baseline \n",
    "cohortSelector = CohortSoftCut(1,60, 61,  expcodes, False, False, True)\n",
    "\n"
   ]
  },
  {
   "cell_type": "code",
   "execution_count": 15,
   "metadata": {},
   "outputs": [],
   "source": [
    "# no mapping as you don't want to drop the prodcodes which are not mapped...\n",
    "# medications = retrieve_medications(file, spark, mapping='none', duration=(2009, 2010), demographics=cohort, practiceLink=True)\n",
    "# medications.write.parquet('/home/shared/shishir/AurumOut/rawDat/meds_nomapping_2009_2010_association_example.parquet')\n",
    "\n",
    "medications = read_parquet(spark.sqlContext, '/home/shared/shishir/AurumOut/rawDat/meds_nomapping_2009_2010_association_example.parquet')\n",
    "# medications.select('patid').dropDuplicates().count()  - 208603 patients have meds in the time period\n",
    "# medications.select('patid').count() - 11764962 number of records"
   ]
  },
  {
   "cell_type": "markdown",
   "metadata": {},
   "source": [
    "# pipeline() function has 3 components:\n",
    "1) demo extract gets eligible patients between age 60 and 61 ^ defined above and years 2009 and 2010  \n",
    "2) extraction of the exposure of interest -  set  baseline as the date of the exposure first captured  \n",
    "3) for those without exposure (i.e. control patients) , set up baseline as randomised baseline\n"
   ]
  },
  {
   "cell_type": "code",
   "execution_count": 14,
   "metadata": {},
   "outputs": [],
   "source": [
    "cohort = cohortSelector.pipeline(file, spark, duration=('2009-01-01', '2010-01-01'), randomNeg=True, sourceT=medications, sourceCol='prodcode')\n",
    "\n",
    "cohort.write.parquet('/home/shared/shishir/AurumOut/rawDat/cohort_association_example3.parquet')\n"
   ]
  },
  {
   "cell_type": "code",
   "execution_count": 17,
   "metadata": {
    "scrolled": false
   },
   "outputs": [
    {
     "data": {
      "text/plain": [
       "225564"
      ]
     },
     "execution_count": 17,
     "metadata": {},
     "output_type": "execute_result"
    }
   ],
   "source": [
    "cohort = read_parquet(spark.sqlContext,'/home/shared/shishir/AurumOut/rawDat/cohort_association_example3.parquet')\n",
    "cohort.count()\n",
    "\n",
    "# 225564 pats \n"
   ]
  },
  {
   "cell_type": "code",
   "execution_count": null,
   "metadata": {},
   "outputs": [],
   "source": []
  },
  {
   "cell_type": "markdown",
   "metadata": {},
   "source": [
    "outcome selection"
   ]
  },
  {
   "cell_type": "code",
   "execution_count": 19,
   "metadata": {},
   "outputs": [],
   "source": [
    "cohort = read_parquet(spark.sqlContext,'/home/shared/shishir/AurumOut/rawDat/cohort_association_example3.parquet')\n",
    "\n",
    "necessaryColumns = ['patid',\n",
    " 'gender',\n",
    " 'dob',\n",
    " 'study_entry',\n",
    " 'startdate',\n",
    " 'enddate',\n",
    "  'exp_label']\n",
    "\n",
    "cohort = cohort.select(necessaryColumns)\n"
   ]
  },
  {
   "cell_type": "code",
   "execution_count": 20,
   "metadata": {},
   "outputs": [
    {
     "name": "stdout",
     "output_type": "stream",
     "text": [
      "+-------------+------+----------+-----------+----------+----------+---------+\n",
      "|        patid|gender|       dob|study_entry| startdate|   enddate|exp_label|\n",
      "+-------------+------+----------+-----------+----------+----------+---------+\n",
      "|1005150820614|     1|1948-07-01| 2009-05-22|2000-02-08|2016-03-15|        0|\n",
      "|1012900720626|     2|1949-07-01| 2009-08-03|2004-03-11|2021-01-15|        0|\n",
      "|1017091020359|     2|1949-07-01| 2009-07-25|1988-02-01|2013-02-05|        0|\n",
      "|1021610620622|     1|1948-07-01| 2009-05-21|1978-04-15|2021-01-15|        0|\n",
      "|1025015720649|     1|1948-07-01| 2009-05-03|1999-01-19|2015-11-30|        0|\n",
      "| 102635020244|     2|1949-07-01| 2009-10-04|1990-10-26|2021-01-15|        0|\n",
      "|1031916720613|     1|1949-07-01| 2009-10-09|1994-04-20|2021-01-05|        0|\n",
      "|1031985420613|     1|1948-07-01| 2009-06-13|1968-06-25|2016-11-19|        0|\n",
      "|1033364020631|     2|1949-07-01| 2009-11-04|1982-06-24|2021-01-05|        0|\n",
      "|1033532820631|     1|1948-07-01| 2009-04-21|1997-08-12|2021-01-05|        0|\n",
      "|1036707220743|     2|1948-07-01| 2009-04-01|1999-03-23|2021-01-15|        0|\n",
      "|1041531620290|     1|1948-07-01| 2009-01-10|1987-09-03|2021-01-08|        0|\n",
      "| 104957220303|     2|1948-07-01| 2009-03-29|1993-03-31|2021-01-15|        0|\n",
      "|1061105520759|     2|1949-07-01| 2009-12-18|1986-04-14|2021-01-05|        0|\n",
      "|1075852620667|     2|1949-07-01| 2009-08-23|1997-05-19|2021-01-15|        0|\n",
      "|1077058520667|     1|1949-07-01| 2009-09-09|1998-09-15|2021-01-15|        0|\n",
      "|1081359120652|     2|1948-07-01| 2009-04-30|2007-06-18|2014-04-10|        0|\n",
      "|1083927720633|     1|1949-07-01| 2009-12-07|1989-10-01|2018-12-18|        0|\n",
      "|1084106920633|     1|1948-07-01| 2009-01-13|2007-01-08|2018-01-04|        0|\n",
      "|1097760220272|     2|1948-07-01| 2009-01-10|1990-10-26|2009-01-14|        0|\n",
      "+-------------+------+----------+-----------+----------+----------+---------+\n",
      "only showing top 20 rows\n",
      "\n"
     ]
    }
   ],
   "source": [
    "cohort.show()"
   ]
  },
  {
   "cell_type": "code",
   "execution_count": 21,
   "metadata": {},
   "outputs": [],
   "source": [
    "# for sake of tutorial, sample .2% of cohort.\n",
    "cohort = cohort.sample(withReplacement=False,fraction=0.002)\n"
   ]
  },
  {
   "cell_type": "code",
   "execution_count": 22,
   "metadata": {},
   "outputs": [
    {
     "data": {
      "text/plain": [
       "441"
      ]
     },
     "execution_count": 22,
     "metadata": {},
     "output_type": "execute_result"
    }
   ],
   "source": [
    "cohort.count()"
   ]
  },
  {
   "cell_type": "markdown",
   "metadata": {},
   "source": [
    "outcome selection"
   ]
  },
  {
   "cell_type": "code",
   "execution_count": 25,
   "metadata": {},
   "outputs": [],
   "source": [
    "# for looking at groups of conditions...\n",
    "# md.findItem('ischaem') + md.findItem('heart failure') \n"
   ]
  },
  {
   "cell_type": "code",
   "execution_count": 26,
   "metadata": {},
   "outputs": [
    {
     "data": {
      "text/plain": [
       "['transient ischaemic attack', 'ischaemic stroke', 'ischaemic heart disease']"
      ]
     },
     "execution_count": 26,
     "metadata": {},
     "output_type": "execute_result"
    }
   ],
   "source": [
    "md.findItem('ischaem')"
   ]
  },
  {
   "cell_type": "code",
   "execution_count": 27,
   "metadata": {
    "scrolled": true
   },
   "outputs": [],
   "source": [
    "# label codes phenotyping from medical dict - ie maybe ischaemic conditions\n",
    "labelcodes  = md.queryDisease(md.findItem('ischaem'), merge= True)['merged']\n",
    "allIschaemiaCodes = labelcodes['medcode'] + labelcodes['ICD10'] \n",
    "\n",
    "# can add OPCS procedure codes too for this, but for simplicity just looking at diagnosis here...:  + labelcodes['OPCS'] \n",
    "\n"
   ]
  },
  {
   "cell_type": "code",
   "execution_count": null,
   "metadata": {},
   "outputs": [],
   "source": []
  },
  {
   "cell_type": "code",
   "execution_count": 29,
   "metadata": {},
   "outputs": [],
   "source": [
    "# label codes phenotyping from medical dict - ie maybe ischaemic conditions\n",
    "allDiag = split_combine_diag (spark , '/home/shared/shishir/AurumOut/rawDat/diagGP_med2sno2icd_HESAPC_praclinkage_1985_2021.parquet')\n",
    "# read death registry as death is an important data source for looking for outcome  \n",
    "death = tables.retrieve_death(dir=file['death'], spark=spark)"
   ]
  },
  {
   "cell_type": "code",
   "execution_count": 78,
   "metadata": {
    "scrolled": true
   },
   "outputs": [
    {
     "data": {
      "text/plain": [
       "470"
      ]
     },
     "execution_count": 78,
     "metadata": {},
     "output_type": "execute_result"
    }
   ],
   "source": [
    "cohort.count()"
   ]
  },
  {
   "cell_type": "code",
   "execution_count": null,
   "metadata": {},
   "outputs": [],
   "source": []
  },
  {
   "cell_type": "code",
   "execution_count": 31,
   "metadata": {},
   "outputs": [],
   "source": [
    "survival_outcome_selector = SurvRiskPredictionBase(follow_up_duration_month=60)\n",
    "# pipeline for capturing the event and time2event is below\n",
    "rcohort = survival_outcome_selector.setupEventAndTime(cohort, source=allDiag, condition=allIschaemiaCodes, column='code', death=death)\n",
    "\n",
    "rcohort. write.parquet('test10_40m.parquet')"
   ]
  },
  {
   "cell_type": "code",
   "execution_count": null,
   "metadata": {},
   "outputs": [],
   "source": []
  },
  {
   "cell_type": "code",
   "execution_count": null,
   "metadata": {},
   "outputs": [],
   "source": []
  },
  {
   "cell_type": "code",
   "execution_count": 80,
   "metadata": {},
   "outputs": [],
   "source": [
    "ss = pd.read_parquet('test9_40m.parquet')"
   ]
  },
  {
   "cell_type": "code",
   "execution_count": 93,
   "metadata": {
    "scrolled": true
   },
   "outputs": [
    {
     "data": {
      "text/html": [
       "<div>\n",
       "<style scoped>\n",
       "    .dataframe tbody tr th:only-of-type {\n",
       "        vertical-align: middle;\n",
       "    }\n",
       "\n",
       "    .dataframe tbody tr th {\n",
       "        vertical-align: top;\n",
       "    }\n",
       "\n",
       "    .dataframe thead th {\n",
       "        text-align: right;\n",
       "    }\n",
       "</style>\n",
       "<table border=\"1\" class=\"dataframe\">\n",
       "  <thead>\n",
       "    <tr style=\"text-align: right;\">\n",
       "      <th></th>\n",
       "      <th>patid</th>\n",
       "      <th>gender</th>\n",
       "      <th>dob</th>\n",
       "      <th>study_entry</th>\n",
       "      <th>startdate</th>\n",
       "      <th>enddate</th>\n",
       "      <th>exp_label</th>\n",
       "      <th>eventdate</th>\n",
       "      <th>label</th>\n",
       "      <th>time2event</th>\n",
       "    </tr>\n",
       "  </thead>\n",
       "  <tbody>\n",
       "    <tr>\n",
       "      <th>0</th>\n",
       "      <td>2764393220207</td>\n",
       "      <td>1</td>\n",
       "      <td>1949-07-01</td>\n",
       "      <td>2009-08-12</td>\n",
       "      <td>1998-07-02</td>\n",
       "      <td>2013-06-29</td>\n",
       "      <td>0</td>\n",
       "      <td>None</td>\n",
       "      <td>0</td>\n",
       "      <td>40</td>\n",
       "    </tr>\n",
       "    <tr>\n",
       "      <th>1</th>\n",
       "      <td>6099362721534</td>\n",
       "      <td>2</td>\n",
       "      <td>1948-07-01</td>\n",
       "      <td>2009-01-03</td>\n",
       "      <td>2004-01-28</td>\n",
       "      <td>2021-01-06</td>\n",
       "      <td>0</td>\n",
       "      <td>None</td>\n",
       "      <td>0</td>\n",
       "      <td>40</td>\n",
       "    </tr>\n",
       "    <tr>\n",
       "      <th>2</th>\n",
       "      <td>3271803221216</td>\n",
       "      <td>1</td>\n",
       "      <td>1948-07-01</td>\n",
       "      <td>2009-01-16</td>\n",
       "      <td>2005-12-14</td>\n",
       "      <td>2021-01-08</td>\n",
       "      <td>1</td>\n",
       "      <td>None</td>\n",
       "      <td>0</td>\n",
       "      <td>40</td>\n",
       "    </tr>\n",
       "    <tr>\n",
       "      <th>3</th>\n",
       "      <td>6562006120818</td>\n",
       "      <td>1</td>\n",
       "      <td>1948-07-01</td>\n",
       "      <td>2009-01-09</td>\n",
       "      <td>2006-12-18</td>\n",
       "      <td>2013-05-17</td>\n",
       "      <td>1</td>\n",
       "      <td>None</td>\n",
       "      <td>0</td>\n",
       "      <td>40</td>\n",
       "    </tr>\n",
       "    <tr>\n",
       "      <th>4</th>\n",
       "      <td>2411820820942</td>\n",
       "      <td>1</td>\n",
       "      <td>1949-07-01</td>\n",
       "      <td>2009-07-10</td>\n",
       "      <td>1991-03-31</td>\n",
       "      <td>2021-01-15</td>\n",
       "      <td>0</td>\n",
       "      <td>None</td>\n",
       "      <td>0</td>\n",
       "      <td>40</td>\n",
       "    </tr>\n",
       "    <tr>\n",
       "      <th>...</th>\n",
       "      <td>...</td>\n",
       "      <td>...</td>\n",
       "      <td>...</td>\n",
       "      <td>...</td>\n",
       "      <td>...</td>\n",
       "      <td>...</td>\n",
       "      <td>...</td>\n",
       "      <td>...</td>\n",
       "      <td>...</td>\n",
       "      <td>...</td>\n",
       "    </tr>\n",
       "    <tr>\n",
       "      <th>434</th>\n",
       "      <td>2433705820944</td>\n",
       "      <td>2</td>\n",
       "      <td>1948-07-01</td>\n",
       "      <td>2009-01-06</td>\n",
       "      <td>2006-08-04</td>\n",
       "      <td>2010-08-06</td>\n",
       "      <td>1</td>\n",
       "      <td>2010-01-08</td>\n",
       "      <td>1</td>\n",
       "      <td>12</td>\n",
       "    </tr>\n",
       "    <tr>\n",
       "      <th>435</th>\n",
       "      <td>3084540721103</td>\n",
       "      <td>1</td>\n",
       "      <td>1949-07-01</td>\n",
       "      <td>2009-09-02</td>\n",
       "      <td>2008-07-29</td>\n",
       "      <td>2016-01-15</td>\n",
       "      <td>0</td>\n",
       "      <td>2012-06-15</td>\n",
       "      <td>1</td>\n",
       "      <td>33</td>\n",
       "    </tr>\n",
       "    <tr>\n",
       "      <th>436</th>\n",
       "      <td>2183944520585</td>\n",
       "      <td>1</td>\n",
       "      <td>1949-07-01</td>\n",
       "      <td>2009-07-06</td>\n",
       "      <td>1986-07-31</td>\n",
       "      <td>2013-02-28</td>\n",
       "      <td>1</td>\n",
       "      <td>2009-07-20</td>\n",
       "      <td>1</td>\n",
       "      <td>0</td>\n",
       "    </tr>\n",
       "    <tr>\n",
       "      <th>437</th>\n",
       "      <td>2078103720892</td>\n",
       "      <td>1</td>\n",
       "      <td>1948-07-01</td>\n",
       "      <td>2009-03-19</td>\n",
       "      <td>1990-02-15</td>\n",
       "      <td>2012-07-10</td>\n",
       "      <td>0</td>\n",
       "      <td>2012-07-10</td>\n",
       "      <td>1</td>\n",
       "      <td>40</td>\n",
       "    </tr>\n",
       "    <tr>\n",
       "      <th>438</th>\n",
       "      <td>1521878120805</td>\n",
       "      <td>1</td>\n",
       "      <td>1948-07-01</td>\n",
       "      <td>2009-05-31</td>\n",
       "      <td>1971-11-04</td>\n",
       "      <td>2010-09-23</td>\n",
       "      <td>0</td>\n",
       "      <td>2010-09-23</td>\n",
       "      <td>1</td>\n",
       "      <td>16</td>\n",
       "    </tr>\n",
       "  </tbody>\n",
       "</table>\n",
       "<p>439 rows × 10 columns</p>\n",
       "</div>"
      ],
      "text/plain": [
       "             patid gender         dob study_entry   startdate     enddate  \\\n",
       "0    2764393220207      1  1949-07-01  2009-08-12  1998-07-02  2013-06-29   \n",
       "1    6099362721534      2  1948-07-01  2009-01-03  2004-01-28  2021-01-06   \n",
       "2    3271803221216      1  1948-07-01  2009-01-16  2005-12-14  2021-01-08   \n",
       "3    6562006120818      1  1948-07-01  2009-01-09  2006-12-18  2013-05-17   \n",
       "4    2411820820942      1  1949-07-01  2009-07-10  1991-03-31  2021-01-15   \n",
       "..             ...    ...         ...         ...         ...         ...   \n",
       "434  2433705820944      2  1948-07-01  2009-01-06  2006-08-04  2010-08-06   \n",
       "435  3084540721103      1  1949-07-01  2009-09-02  2008-07-29  2016-01-15   \n",
       "436  2183944520585      1  1949-07-01  2009-07-06  1986-07-31  2013-02-28   \n",
       "437  2078103720892      1  1948-07-01  2009-03-19  1990-02-15  2012-07-10   \n",
       "438  1521878120805      1  1948-07-01  2009-05-31  1971-11-04  2010-09-23   \n",
       "\n",
       "     exp_label   eventdate  label  time2event  \n",
       "0            0        None      0          40  \n",
       "1            0        None      0          40  \n",
       "2            1        None      0          40  \n",
       "3            1        None      0          40  \n",
       "4            0        None      0          40  \n",
       "..         ...         ...    ...         ...  \n",
       "434          1  2010-01-08      1          12  \n",
       "435          0  2012-06-15      1          33  \n",
       "436          1  2009-07-20      1           0  \n",
       "437          0  2012-07-10      1          40  \n",
       "438          0  2010-09-23      1          16  \n",
       "\n",
       "[439 rows x 10 columns]"
      ]
     },
     "execution_count": 93,
     "metadata": {},
     "output_type": "execute_result"
    }
   ],
   "source": [
    "ss"
   ]
  },
  {
   "cell_type": "code",
   "execution_count": null,
   "metadata": {},
   "outputs": [],
   "source": []
  },
  {
   "cell_type": "markdown",
   "metadata": {},
   "source": [
    "# T-BEHRT/BEHRT/TRisk etc data extraction \n",
    "### also option to make unique per N months (i.e., delete duplicate rec in a given N months)"
   ]
  },
  {
   "cell_type": "code",
   "execution_count": null,
   "metadata": {},
   "outputs": [],
   "source": [
    "allDiag = read_parquet(spark.sqlContext, '/home/shared/shishir/AurumOut/rawDat/diagGP_med2sno2icd_HESAPC_praclinkage_1985_2021.parquet')\n",
    "meds = read_parquet(spark.sqlContext, '/home/shared/shishir/AurumOut/rawDat/medications_1985_2022_bnfvtm.parquet')\n",
    "proc = read_parquet(spark.sqlContext, '/home/shared/shishir/AurumOut/rawDat/proc_HES_1985_2021_allpats.parquet').withColumnRenamed('OPCS','code')\n",
    "\n",
    "proc = proc.withColumn('code', F.concat(F.lit(\"PROC_\"), F.col('code'))).select('patid','eventdate','code')\n",
    "\n",
    "allDiag = allDiag.select('patid','eventdate','ICD').withColumnRenamed('ICD','code')\n",
    "meds = meds.select('patid','eventdate','code')\n",
    "fullcodes = allDiag.union(meds).union(proc)\n"
   ]
  },
  {
   "cell_type": "code",
   "execution_count": 71,
   "metadata": {
    "scrolled": false
   },
   "outputs": [],
   "source": [
    "\n",
    "\n",
    "cohort = read_parquet(spark.sqlContext, 'test9_40m.parquet')\n",
    "extractorBEHRT = BEHRTextraction()\n",
    "dataout = extractorBEHRT.format_behrt(fullcodes, cohort, col_entry = 'study_entry', unique_in_months=6)"
   ]
  },
  {
   "cell_type": "code",
   "execution_count": 72,
   "metadata": {},
   "outputs": [],
   "source": [
    "dataout.write.parquet('test9_40m__BEHRTbasedout.parquet')\n"
   ]
  },
  {
   "cell_type": "code",
   "execution_count": null,
   "metadata": {},
   "outputs": [],
   "source": []
  }
 ],
 "metadata": {
  "kernelspec": {
   "display_name": "pyspark3.7",
   "language": "python",
   "name": "pyspark37"
  },
  "language_info": {
   "codemirror_mode": {
    "name": "ipython",
    "version": 3
   },
   "file_extension": ".py",
   "mimetype": "text/x-python",
   "name": "python",
   "nbconvert_exporter": "python",
   "pygments_lexer": "ipython3",
   "version": "3.7.10"
  }
 },
 "nbformat": 4,
 "nbformat_minor": 2
}
