{
 "cells": [
  {
   "cell_type": "code",
   "execution_count": null,
   "metadata": {
    "scrolled": true
   },
   "outputs": [],
   "source": [
    "# pipeline derived from joint work with Yikuan Li"
   ]
  },
  {
   "cell_type": "code",
   "execution_count": 1,
   "metadata": {},
   "outputs": [],
   "source": [
    "import pyspark"
   ]
  },
  {
   "cell_type": "code",
   "execution_count": 2,
   "metadata": {},
   "outputs": [],
   "source": [
    "import sys \n",
    "sys.path.insert(0, '/home/rnshishir/deepmed/CPRD_Cut22/')\n",
    "import shutil\n",
    "from utils.yaml_act import yaml_load\n",
    "from utils.arg_parse import arg_paser\n",
    "from CPRD.config.spark import spark_init, read_parquet\n",
    "import pyspark.sql.functions as F\n",
    "from CPRD.functions import tables, merge\n",
    "from CPRD.functions import merge\n",
    "from utils.utils import save_obj\n",
    "from CPRD.functions.MedicalDictionary import * \n",
    "from CPRD.functions.Prediction import * \n",
    "from CPRD.functions.cohort_select import * \n",
    "from CPRD.functions.SurvPrediction import * \n",
    "\n",
    "class dotdict(dict):\n",
    "    \"\"\"dot.notation access to dictionary attributes\"\"\"\n",
    "    __getattr__ = dict.get\n",
    "    __setattr__ = dict.__setitem__\n",
    "    __delattr__ = dict.__delitem__"
   ]
  },
  {
   "cell_type": "code",
   "execution_count": 3,
   "metadata": {},
   "outputs": [],
   "source": [
    "\n",
    "def vocabCreate(CountsICD, num):\n",
    "    dic={}\n",
    "    dic['token2idx']={}\n",
    "    dic['idx2token']={}\n",
    "    dic['token2idx']['MASK']=4\n",
    "    dic['token2idx']['CLS']=3\n",
    "    dic['token2idx']['SEP']=2\n",
    "    dic['token2idx']['UNK']=1\n",
    "    dic['token2idx']['PAD']=0\n",
    "    dic['idx2token'][4]='MASK'\n",
    "    dic['idx2token'][3]='CLS'\n",
    "    dic['idx2token'][2]='SEP'\n",
    "    dic['idx2token'][1]='UNK'\n",
    "    dic['idx2token'][0]='PAD'\n",
    "    i=5\n",
    "    for x in CountsICD:\n",
    "        if CountsICD[x]>num:\n",
    "            dic['token2idx'][x]=i\n",
    "            dic['idx2token'][i]=x\n",
    "            i=i+1\n",
    "    return dic"
   ]
  },
  {
   "cell_type": "code",
   "execution_count": 4,
   "metadata": {},
   "outputs": [
    {
     "name": "stderr",
     "output_type": "stream",
     "text": [
      "/home/rnshishir/deepmed/CPRD_Cut22/utils/yaml_act.py:6: YAMLLoadWarning: calling yaml.load() without Loader=... is deprecated, as the default Loader is unsafe. Please read https://msg.pyyaml.org/load for full details.\n",
      "  cfg = yaml.load(ymlfile)\n"
     ]
    }
   ],
   "source": [
    "args = dotdict({'params': '/home/rnshishir/deepmed/CPRD_Cut22/config/config.yaml'})\n",
    "params = yaml_load(args.params)\n",
    "spark_params = params['pyspark']\n",
    "spark = spark_init(spark_params)\n",
    "file = params['file_path']\n",
    "data_params = params['params']"
   ]
  },
  {
   "cell_type": "code",
   "execution_count": 5,
   "metadata": {},
   "outputs": [
    {
     "data": {
      "text/plain": [
       "{'task': 'medication.main',\n",
       " 'pyspark': {'temp': '/home/rnshishir/sparkNewT',\n",
       "  'pyspark_env': '/home/rnshishir/anaconda3/envs/pyspark37/bin/python3.7'},\n",
       " 'file_path': {'clinical': '/home/workspace/datasets/cprd/cprd2021/*/*_Observation_*',\n",
       "  'patient': '/home/workspace/datasets/cprd/cprd2021/*/*_Patient_*',\n",
       "  'problem': '/home/workspace/datasets/cprd/cprd2021/*/*_Problem_*',\n",
       "  'therapy': '/home/workspace/datasets/cprd/cprd2021/*/*_DrugIssue_*',\n",
       "  'practice': '/home/workspace/datasets/cprd/cprd2021/*/*_Practice_*',\n",
       "  'consultation': '/home/workspace/datasets/cprd/cprd2021/*/*_Consultation_*',\n",
       "  'staff': '/home/workspace/datasets/cprd/cprd2021/*/*_Staff*',\n",
       "  'diagnosis_hes': '/home/workspace/datasets/cprd/cprd2021/linkage/20_095_Results/*/Aurum_linked/Final/hes_diagnosis_hosp_20_095_DM.txt',\n",
       "  'proc_hes': '/home/workspace/datasets/cprd/cprd2021/linkage/20_095_Results/*/Aurum_linked/Final/hes_procedures_epi_20_095_DM.txt',\n",
       "  'op_hes': '/home/workspace/datasets/cprd/cprd2021/linkage/20_095_Results/*/Aurum_linked/Final/hesop_clinical_20_095_DM.txt',\n",
       "  'death': '/home/workspace/datasets/cprd/cprd2021/linkage/20_095_Results/*/Aurum_linked/Final/death_patient_20_095_DM.txt',\n",
       "  'eligible': '/home/workspace/datasets/cprd/cprd2021/linkage_eligibility_Set21/linkage_eligibility*',\n",
       "  'med2read': '/home/workspace/datasets/cprd/cprd2021/202102_lookups/202102_EMISMedicalDictionary.txt',\n",
       "  'med2sno': '/home/workspace/datasets/cprd/cprd2021/202102_lookups/202102_EMISMedicalDictionary.txt',\n",
       "  'medicalDict': '/home/shared/shishir/AurumOut/Dicts/MedicalDictionary/CompiledDict/',\n",
       "  'uptodateDict': '/home/workspace/datasets/cprd/cprd2021/linkage/20_095_Results/Documentation/*/linkage_coverage_dictv.pkl',\n",
       "  'prod2bnf': '/home/workspace/datasets/cprd/cprd2021/202102_lookups/202102_EMISProductDictionary.txt',\n",
       "  'prod2bnf_vtm': '/home/shared/shishir/AurumOut/Dicts/meds_medcount_full.parquet',\n",
       "  'read2icd': '/home/workspace/datasets/cprd/cuts/02_cprd2015/3_Lookups/final_mapping.csv',\n",
       "  'sno2icd': '/home/shared/shishir/AurumOut/Dicts/snomed2icd.parquet',\n",
       "  'imd': '/home/workspace/datasets/cprd/cprd2021/linkage/20_095_Results/*/Aurum_linked/Final/patient_imd2015_20_095.txt',\n",
       "  'PhenoMaps': '/home/shared/shishir/AurumOut/Dicts/compiled_MD_30Jan2023'},\n",
       " 'params': {'bnf_mapping': True, 'time_range': [1985, 2022]},\n",
       " 'save_file': 'medication.parquet'}"
      ]
     },
     "execution_count": 5,
     "metadata": {},
     "output_type": "execute_result"
    }
   ],
   "source": [
    "# params have each of the individual files for data processing and other things like location of medical dict etc\n",
    "params"
   ]
  },
  {
   "cell_type": "code",
   "execution_count": null,
   "metadata": {},
   "outputs": [],
   "source": []
  },
  {
   "cell_type": "markdown",
   "metadata": {},
   "source": [
    "# cohort selection\n",
    "### Ischaemic events risk prediction\n",
    "\n",
    "-Cohort selection: age between 70 and 71 years in years between 2012 and 2013 with 1 year reg GP\n",
    "\n",
    "-we select random baseline\n",
    "\n",
    "-3 year followup"
   ]
  },
  {
   "cell_type": "code",
   "execution_count": 6,
   "metadata": {},
   "outputs": [],
   "source": [
    "# a random cut cohort\n",
    "cohortselector = CohortRandomCut(least_year_register_gp=1, least_age=70, greatest_age=71)\n",
    "cohort = cohortselector.pipeline(file,spark, duration=('2012-01-01', '2013-01-01'))\\\n",
    "                .select(['patid', 'gender', 'dob', 'region', 'study_entry', 'start', 'startdate', 'end', 'enddate'])\n",
    "\n",
    "cohort.write.parquet('/home/shared/shishir/AurumOut/rawDat/cohort_survpred_example_7071.parquet')\n",
    "\n",
    "cohort = read_parquet(spark.sqlContext,'/home/shared/shishir/AurumOut/rawDat/cohort_survpred_example_7071.parquet')"
   ]
  },
  {
   "cell_type": "markdown",
   "metadata": {},
   "source": [
    "outcome selection"
   ]
  },
  {
   "cell_type": "code",
   "execution_count": 7,
   "metadata": {},
   "outputs": [],
   "source": [
    "cohort = read_parquet(spark.sqlContext,'/home/shared/shishir/AurumOut/rawDat/cohort_survpred_example_7071.parquet')\n",
    "\n"
   ]
  },
  {
   "cell_type": "code",
   "execution_count": 9,
   "metadata": {},
   "outputs": [
    {
     "data": {
      "text/plain": [
       "174137"
      ]
     },
     "execution_count": 9,
     "metadata": {},
     "output_type": "execute_result"
    }
   ],
   "source": [
    "cohort.count()"
   ]
  },
  {
   "cell_type": "code",
   "execution_count": 10,
   "metadata": {
    "scrolled": true
   },
   "outputs": [],
   "source": [
    "# label codes phenotyping from medical dict - ie maybe ischaemic conditions\n",
    "md = MedicalDictionaryRiskPrediction(file, spark)\n",
    "\n",
    "labelcodes  = md.queryDisease(md.findItem('ischaem'), merge= True)['merged']\n",
    "allIschaemiaCodes = labelcodes['medcode'] + labelcodes['ICD10'] +labelcodes['OPCS']"
   ]
  },
  {
   "cell_type": "code",
   "execution_count": 11,
   "metadata": {},
   "outputs": [],
   "source": [
    "# label codes phenotyping from medical dict - ie maybe ischaemic conditions\n",
    "\n",
    "# split diags into icd and nonicd(medcode) and re-union as \"code\"\n",
    "allDiag = read_parquet(spark.sqlContext, '/home/shared/shishir/AurumOut/rawDat/diagGP_med2sno2icd_HESAPC_praclinkage_1985_2021.parquet')\n",
    "GPdiags = allDiag[allDiag.source=='CPRD']\n",
    "GPdiags = GPdiags.select(['patid' , 'eventdate', 'medcode']).withColumnRenamed('medcode', 'code')\n",
    "HESdiags = allDiag[allDiag.source=='HES']\n",
    "HESdiags = HESdiags.select(['patid' , 'eventdate', 'ICD']).withColumnRenamed('ICD', 'code')\n",
    "allDiag = GPdiags.union(HESdiags)\n",
    "\n",
    "# read death registry as death is an important data source for looking for outcome  \n",
    "death = tables.retrieve_death(dir=file['death'], spark=spark)"
   ]
  },
  {
   "cell_type": "code",
   "execution_count": null,
   "metadata": {},
   "outputs": [],
   "source": [
    "survival_outcome_selector = SurvRiskPredictionBase(follow_up_duration_month=36)\n",
    "# pipeline for capturing the event and time2event is below\n",
    "rcohort = survival_outcome_selector.setupEventAndTime(cohort, source=allDiag, condition=allIschaemiaCodes, column='code', death=death)\n",
    "\n",
    "rcohort. write.parquet('rpred_test_7071.parquet')\n"
   ]
  },
  {
   "cell_type": "code",
   "execution_count": 25,
   "metadata": {},
   "outputs": [],
   "source": [
    "rcohort = pd.read_parquet('rpred_test_7071.parquet')"
   ]
  },
  {
   "cell_type": "code",
   "execution_count": null,
   "metadata": {},
   "outputs": [],
   "source": []
  }
 ],
 "metadata": {
  "kernelspec": {
   "display_name": "pyspark3.7",
   "language": "python",
   "name": "pyspark37"
  },
  "language_info": {
   "codemirror_mode": {
    "name": "ipython",
    "version": 3
   },
   "file_extension": ".py",
   "mimetype": "text/x-python",
   "name": "python",
   "nbconvert_exporter": "python",
   "pygments_lexer": "ipython3",
   "version": "3.7.10"
  }
 },
 "nbformat": 4,
 "nbformat_minor": 2
}
